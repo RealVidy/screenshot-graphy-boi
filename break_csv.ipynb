{
 "cells": [
  {
   "cell_type": "code",
   "execution_count": 4,
   "metadata": {},
   "outputs": [],
   "source": [
    "import csv\n",
    "\n",
    "\n",
    "def generate_files_from_csv(csv_file):\n",
    "    with open(csv_file, \"r\") as file:\n",
    "        reader = csv.reader(file)\n",
    "        for row in reader:\n",
    "            # Assuming the first column contains the file names\n",
    "            file_name = row[1]\n",
    "            # Assuming the second column contains the file content\n",
    "            file_content = row[2]\n",
    "\n",
    "            # Generate a file with the given name and content\n",
    "            with open(f\"data/image_descriptions/{file_name}.txt\", \"w\") as output_file:\n",
    "                output_file.write(file_content)\n",
    "\n",
    "\n",
    "# Provide the path to your CSV file\n",
    "csv_file_path = \"data/experiments/imgs_names_to_descriptions.csv\"\n",
    "\n",
    "# Call the function to generate files from the CSV\n",
    "generate_files_from_csv(csv_file_path)"
   ]
  },
  {
   "cell_type": "code",
   "execution_count": null,
   "metadata": {},
   "outputs": [],
   "source": []
  }
 ],
 "metadata": {
  "kernelspec": {
   "display_name": ".venv",
   "language": "python",
   "name": "python3"
  },
  "language_info": {
   "codemirror_mode": {
    "name": "ipython",
    "version": 3
   },
   "file_extension": ".py",
   "mimetype": "text/x-python",
   "name": "python",
   "nbconvert_exporter": "python",
   "pygments_lexer": "ipython3",
   "version": "3.11.6"
  }
 },
 "nbformat": 4,
 "nbformat_minor": 2
}
